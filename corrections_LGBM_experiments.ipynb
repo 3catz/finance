{
  "nbformat": 4,
  "nbformat_minor": 0,
  "metadata": {
    "colab": {
      "name": "corrections_LGBM_experiments.ipynb",
      "version": "0.3.2",
      "provenance": [],
      "collapsed_sections": [],
      "include_colab_link": true
    },
    "kernelspec": {
      "name": "python3",
      "display_name": "Python 3"
    },
    "accelerator": "GPU"
  },
  "cells": [
    {
      "cell_type": "markdown",
      "metadata": {
        "id": "view-in-github",
        "colab_type": "text"
      },
      "source": [
        "<a href=\"https://colab.research.google.com/github/3catz/finance/blob/master/corrections_LGBM_experiments.ipynb\" target=\"_parent\"><img src=\"https://colab.research.google.com/assets/colab-badge.svg\" alt=\"Open In Colab\"/></a>"
      ]
    },
    {
      "cell_type": "markdown",
      "metadata": {
        "id": "ax--B1rIbrD2",
        "colab_type": "text"
      },
      "source": [
        "# Beginnings"
      ]
    },
    {
      "cell_type": "code",
      "metadata": {
        "id": "oKZ_mY6RUvft",
        "colab_type": "code",
        "outputId": "cb013a35-2c4a-4d28-a098-b27717bab0a0",
        "colab": {
          "base_uri": "https://localhost:8080/",
          "height": 2378
        }
      },
      "source": [
        "!pip install pyentrp\n",
        "# !pip install nolds\n",
        "!pip install git+https://github.com/manu-mannattil/nolitsa.git\n",
        "!pip install saxpy\n",
        "!pip install requests_html\n",
        "!pip install fix_yahoo_finance --upgrade --no-cache-dir\n"
      ],
      "execution_count": 1,
      "outputs": [
        {
          "output_type": "stream",
          "text": [
            "Collecting pyentrp\n",
            "  Downloading https://files.pythonhosted.org/packages/1e/f2/c8b394d9d84e728a4b93cdf7d36f2bb95746f06f48698f032a20165fc0c5/pyentrp-0.5.0.tar.gz\n",
            "Requirement already satisfied: numpy>=1.7.0 in /usr/local/lib/python3.6/dist-packages (from pyentrp) (1.16.3)\n",
            "Building wheels for collected packages: pyentrp\n",
            "  Building wheel for pyentrp (setup.py) ... \u001b[?25l\u001b[?25hdone\n",
            "  Stored in directory: /root/.cache/pip/wheels/03/d8/63/f9589ba183381c68af5a57794b1efb6dff66825fa6ce858c19\n",
            "Successfully built pyentrp\n",
            "Installing collected packages: pyentrp\n",
            "Successfully installed pyentrp-0.5.0\n",
            "Collecting git+https://github.com/manu-mannattil/nolitsa.git\n",
            "  Cloning https://github.com/manu-mannattil/nolitsa.git to /tmp/pip-req-build-5ump3uel\n",
            "  Running command git clone -q https://github.com/manu-mannattil/nolitsa.git /tmp/pip-req-build-5ump3uel\n",
            "Requirement already satisfied: numpy>=1.11.0 in /usr/local/lib/python3.6/dist-packages (from nolitsa==0.1) (1.16.3)\n",
            "Requirement already satisfied: scipy>=0.17.0 in /usr/local/lib/python3.6/dist-packages (from nolitsa==0.1) (1.2.1)\n",
            "Building wheels for collected packages: nolitsa\n",
            "  Building wheel for nolitsa (setup.py) ... \u001b[?25l\u001b[?25hdone\n",
            "  Stored in directory: /tmp/pip-ephem-wheel-cache-6f2fyt92/wheels/9b/2e/49/14f1c7a1b4acd6716bb946b6b40d722c4be76fd0e5b1ade611\n",
            "Successfully built nolitsa\n",
            "Installing collected packages: nolitsa\n",
            "Successfully installed nolitsa-0.1\n",
            "Collecting saxpy\n",
            "\u001b[?25l  Downloading https://files.pythonhosted.org/packages/c1/06/c912c97c8348ffabf47b7c010f400574ef9fcf38ba33b449437e58b60c48/saxpy-1.0.1.dev167.tar.gz (178kB)\n",
            "\u001b[K     |████████████████████████████████| 184kB 3.5MB/s \n",
            "\u001b[?25hRequirement already satisfied: numpy in /usr/local/lib/python3.6/dist-packages (from saxpy) (1.16.3)\n",
            "Requirement already satisfied: pytest in /usr/local/lib/python3.6/dist-packages (from saxpy) (3.6.4)\n",
            "Collecting pytest-cov (from saxpy)\n",
            "  Downloading https://files.pythonhosted.org/packages/84/7b/73f8522619d1cbb22b9a36f9c54bc5ce5e24648e53cc1bf566477d2d1f2b/pytest_cov-2.7.1-py2.py3-none-any.whl\n",
            "Collecting codecov (from saxpy)\n",
            "  Downloading https://files.pythonhosted.org/packages/8b/28/4c1950a61c3c5786f0f34d643d0d28ec832433c9a7c0bd157690d4eb1d5f/codecov-2.0.15-py2.py3-none-any.whl\n",
            "Requirement already satisfied: six>=1.10.0 in /usr/local/lib/python3.6/dist-packages (from pytest->saxpy) (1.12.0)\n",
            "Requirement already satisfied: setuptools in /usr/local/lib/python3.6/dist-packages (from pytest->saxpy) (41.0.1)\n",
            "Requirement already satisfied: py>=1.5.0 in /usr/local/lib/python3.6/dist-packages (from pytest->saxpy) (1.8.0)\n",
            "Requirement already satisfied: atomicwrites>=1.0 in /usr/local/lib/python3.6/dist-packages (from pytest->saxpy) (1.3.0)\n",
            "Requirement already satisfied: pluggy<0.8,>=0.5 in /usr/local/lib/python3.6/dist-packages (from pytest->saxpy) (0.7.1)\n",
            "Requirement already satisfied: more-itertools>=4.0.0 in /usr/local/lib/python3.6/dist-packages (from pytest->saxpy) (7.0.0)\n",
            "Requirement already satisfied: attrs>=17.4.0 in /usr/local/lib/python3.6/dist-packages (from pytest->saxpy) (19.1.0)\n",
            "Collecting coverage>=4.4 (from pytest-cov->saxpy)\n",
            "\u001b[?25l  Downloading https://files.pythonhosted.org/packages/f8/4e/f28fc04019bac97d301512d904992791569234a06826cd420f78fba9a361/coverage-4.5.3-cp36-cp36m-manylinux1_x86_64.whl (205kB)\n",
            "\u001b[K     |████████████████████████████████| 215kB 51.8MB/s \n",
            "\u001b[?25hRequirement already satisfied: requests>=2.7.9 in /usr/local/lib/python3.6/dist-packages (from codecov->saxpy) (2.21.0)\n",
            "Requirement already satisfied: idna<2.9,>=2.5 in /usr/local/lib/python3.6/dist-packages (from requests>=2.7.9->codecov->saxpy) (2.8)\n",
            "Requirement already satisfied: chardet<3.1.0,>=3.0.2 in /usr/local/lib/python3.6/dist-packages (from requests>=2.7.9->codecov->saxpy) (3.0.4)\n",
            "Requirement already satisfied: urllib3<1.25,>=1.21.1 in /usr/local/lib/python3.6/dist-packages (from requests>=2.7.9->codecov->saxpy) (1.24.2)\n",
            "Requirement already satisfied: certifi>=2017.4.17 in /usr/local/lib/python3.6/dist-packages (from requests>=2.7.9->codecov->saxpy) (2019.3.9)\n",
            "Building wheels for collected packages: saxpy\n",
            "  Building wheel for saxpy (setup.py) ... \u001b[?25l\u001b[?25hdone\n",
            "  Stored in directory: /root/.cache/pip/wheels/68/d1/a0/a2a4f96eb82607654bc45f00479af34ddd7c45be9096b8e63c\n",
            "Successfully built saxpy\n",
            "\u001b[31mERROR: datascience 0.10.6 has requirement coverage==3.7.1, but you'll have coverage 4.5.3 which is incompatible.\u001b[0m\n",
            "\u001b[31mERROR: datascience 0.10.6 has requirement folium==0.2.1, but you'll have folium 0.8.3 which is incompatible.\u001b[0m\n",
            "\u001b[31mERROR: coveralls 0.5 has requirement coverage<3.999,>=3.6, but you'll have coverage 4.5.3 which is incompatible.\u001b[0m\n",
            "Installing collected packages: coverage, pytest-cov, codecov, saxpy\n",
            "  Found existing installation: coverage 3.7.1\n",
            "    Uninstalling coverage-3.7.1:\n",
            "      Successfully uninstalled coverage-3.7.1\n",
            "Successfully installed codecov-2.0.15 coverage-4.5.3 pytest-cov-2.7.1 saxpy-1.0.1.dev167\n",
            "Collecting requests_html\n",
            "  Downloading https://files.pythonhosted.org/packages/24/bc/a4380f09bab3a776182578ce6b2771e57259d0d4dbce178205779abdc347/requests_html-0.10.0-py3-none-any.whl\n",
            "Collecting parse (from requests_html)\n",
            "  Downloading https://files.pythonhosted.org/packages/c4/c0/324d280a3298cdad806c3fb64eef31aed5c4dbd15b72a309498fb71c6a17/parse-1.12.0.tar.gz\n",
            "Collecting fake-useragent (from requests_html)\n",
            "  Downloading https://files.pythonhosted.org/packages/d1/79/af647635d6968e2deb57a208d309f6069d31cb138066d7e821e575112a80/fake-useragent-0.1.11.tar.gz\n",
            "Collecting pyquery (from requests_html)\n",
            "  Downloading https://files.pythonhosted.org/packages/09/c7/ce8c9c37ab8ff8337faad3335c088d60bed4a35a4bed33a64f0e64fbcf29/pyquery-1.4.0-py2.py3-none-any.whl\n",
            "Collecting pyppeteer>=0.0.14 (from requests_html)\n",
            "\u001b[?25l  Downloading https://files.pythonhosted.org/packages/b0/16/a5e8d617994cac605f972523bb25f12e3ff9c30baee29b4a9c50467229d9/pyppeteer-0.0.25.tar.gz (1.2MB)\n",
            "\u001b[K     |████████████████████████████████| 1.2MB 10.4MB/s \n",
            "\u001b[?25hRequirement already satisfied: requests in /usr/local/lib/python3.6/dist-packages (from requests_html) (2.21.0)\n",
            "Collecting w3lib (from requests_html)\n",
            "  Downloading https://files.pythonhosted.org/packages/81/43/9dcf92a77f5f0afe4f4df2407d7289eea01368a08b64bda00dd318ca62a6/w3lib-1.20.0-py2.py3-none-any.whl\n",
            "Requirement already satisfied: bs4 in /usr/local/lib/python3.6/dist-packages (from requests_html) (0.0.1)\n",
            "Collecting cssselect>0.7.9 (from pyquery->requests_html)\n",
            "  Downloading https://files.pythonhosted.org/packages/7b/44/25b7283e50585f0b4156960691d951b05d061abf4a714078393e51929b30/cssselect-1.0.3-py2.py3-none-any.whl\n",
            "Requirement already satisfied: lxml>=2.1 in /usr/local/lib/python3.6/dist-packages (from pyquery->requests_html) (4.2.6)\n",
            "Collecting pyee (from pyppeteer>=0.0.14->requests_html)\n",
            "  Downloading https://files.pythonhosted.org/packages/ad/d8/5608d571ffad3d7de0192b0b3099fe3f38d87c0817ebff3cee19264f0bc2/pyee-6.0.0-py2.py3-none-any.whl\n",
            "Collecting websockets (from pyppeteer>=0.0.14->requests_html)\n",
            "\u001b[?25l  Downloading https://files.pythonhosted.org/packages/43/71/8bfa882b9c502c36e5c9ef6732969533670d2b039cbf95a82ced8f762b80/websockets-7.0-cp36-cp36m-manylinux1_x86_64.whl (63kB)\n",
            "\u001b[K     |████████████████████████████████| 71kB 29.7MB/s \n",
            "\u001b[?25hCollecting appdirs (from pyppeteer>=0.0.14->requests_html)\n",
            "  Downloading https://files.pythonhosted.org/packages/56/eb/810e700ed1349edde4cbdc1b2a21e28cdf115f9faf263f6bbf8447c1abf3/appdirs-1.4.3-py2.py3-none-any.whl\n",
            "Requirement already satisfied: urllib3 in /usr/local/lib/python3.6/dist-packages (from pyppeteer>=0.0.14->requests_html) (1.24.2)\n",
            "Requirement already satisfied: tqdm in /usr/local/lib/python3.6/dist-packages (from pyppeteer>=0.0.14->requests_html) (4.28.1)\n",
            "Requirement already satisfied: certifi>=2017.4.17 in /usr/local/lib/python3.6/dist-packages (from requests->requests_html) (2019.3.9)\n",
            "Requirement already satisfied: chardet<3.1.0,>=3.0.2 in /usr/local/lib/python3.6/dist-packages (from requests->requests_html) (3.0.4)\n",
            "Requirement already satisfied: idna<2.9,>=2.5 in /usr/local/lib/python3.6/dist-packages (from requests->requests_html) (2.8)\n",
            "Requirement already satisfied: six>=1.4.1 in /usr/local/lib/python3.6/dist-packages (from w3lib->requests_html) (1.12.0)\n",
            "Requirement already satisfied: beautifulsoup4 in /usr/local/lib/python3.6/dist-packages (from bs4->requests_html) (4.6.3)\n",
            "Building wheels for collected packages: parse, fake-useragent, pyppeteer\n",
            "  Building wheel for parse (setup.py) ... \u001b[?25l\u001b[?25hdone\n",
            "  Stored in directory: /root/.cache/pip/wheels/9f/62/d1/c46b7452aa0b2c838080bdd462110cd6c61890151f916aa743\n",
            "  Building wheel for fake-useragent (setup.py) ... \u001b[?25l\u001b[?25hdone\n",
            "  Stored in directory: /root/.cache/pip/wheels/5e/63/09/d1dc15179f175357d3f5c00cbffbac37f9e8690d80545143ff\n",
            "  Building wheel for pyppeteer (setup.py) ... \u001b[?25l\u001b[?25hdone\n",
            "  Stored in directory: /root/.cache/pip/wheels/34/e0/5d/070e22eceecf7ecd5fa4b86bbc18c1c7d0b90e02e9b57f35eb\n",
            "Successfully built parse fake-useragent pyppeteer\n",
            "Installing collected packages: parse, fake-useragent, cssselect, pyquery, pyee, websockets, appdirs, pyppeteer, w3lib, requests-html\n",
            "Successfully installed appdirs-1.4.3 cssselect-1.0.3 fake-useragent-0.1.11 parse-1.12.0 pyee-6.0.0 pyppeteer-0.0.25 pyquery-1.4.0 requests-html-0.10.0 w3lib-1.20.0 websockets-7.0\n",
            "Collecting fix_yahoo_finance\n",
            "  Downloading https://files.pythonhosted.org/packages/0c/b3/55468a37787c0a32d0e26155bdd2c712469d95071a125884fc1ff149b75c/fix-yahoo-finance-0.1.33.tar.gz\n",
            "Requirement already satisfied, skipping upgrade: pandas>=0.24 in /usr/local/lib/python3.6/dist-packages (from fix_yahoo_finance) (0.24.2)\n",
            "Requirement already satisfied, skipping upgrade: numpy>1.15 in /usr/local/lib/python3.6/dist-packages (from fix_yahoo_finance) (1.16.3)\n",
            "Collecting requests<2.20 (from fix_yahoo_finance)\n",
            "\u001b[?25l  Downloading https://files.pythonhosted.org/packages/65/47/7e02164a2a3db50ed6d8a6ab1d6d60b69c4c3fdf57a284257925dfc12bda/requests-2.19.1-py2.py3-none-any.whl (91kB)\n",
            "\u001b[K     |████████████████████████████████| 92kB 4.6MB/s \n",
            "\u001b[?25hRequirement already satisfied, skipping upgrade: multitasking>=0.0.7 in /usr/local/lib/python3.6/dist-packages (from fix_yahoo_finance) (0.0.7)\n",
            "Requirement already satisfied, skipping upgrade: pytz>=2011k in /usr/local/lib/python3.6/dist-packages (from pandas>=0.24->fix_yahoo_finance) (2018.9)\n",
            "Requirement already satisfied, skipping upgrade: python-dateutil>=2.5.0 in /usr/local/lib/python3.6/dist-packages (from pandas>=0.24->fix_yahoo_finance) (2.5.3)\n",
            "Requirement already satisfied, skipping upgrade: certifi>=2017.4.17 in /usr/local/lib/python3.6/dist-packages (from requests<2.20->fix_yahoo_finance) (2019.3.9)\n",
            "Collecting urllib3<1.24,>=1.21.1 (from requests<2.20->fix_yahoo_finance)\n",
            "\u001b[?25l  Downloading https://files.pythonhosted.org/packages/bd/c9/6fdd990019071a4a32a5e7cb78a1d92c53851ef4f56f62a3486e6a7d8ffb/urllib3-1.23-py2.py3-none-any.whl (133kB)\n",
            "\u001b[K     |████████████████████████████████| 143kB 11.0MB/s \n",
            "\u001b[?25hCollecting idna<2.8,>=2.5 (from requests<2.20->fix_yahoo_finance)\n",
            "\u001b[?25l  Downloading https://files.pythonhosted.org/packages/4b/2a/0276479a4b3caeb8a8c1af2f8e4355746a97fab05a372e4a2c6a6b876165/idna-2.7-py2.py3-none-any.whl (58kB)\n",
            "\u001b[K     |████████████████████████████████| 61kB 58.9MB/s \n",
            "\u001b[?25hRequirement already satisfied, skipping upgrade: chardet<3.1.0,>=3.0.2 in /usr/local/lib/python3.6/dist-packages (from requests<2.20->fix_yahoo_finance) (3.0.4)\n",
            "Requirement already satisfied, skipping upgrade: six>=1.5 in /usr/local/lib/python3.6/dist-packages (from python-dateutil>=2.5.0->pandas>=0.24->fix_yahoo_finance) (1.12.0)\n",
            "Building wheels for collected packages: fix-yahoo-finance\n",
            "  Building wheel for fix-yahoo-finance (setup.py) ... \u001b[?25l\u001b[?25hdone\n",
            "  Stored in directory: /tmp/pip-ephem-wheel-cache-mjunc9te/wheels/a3/1b/c0/91156c9ac30e03348d0d5d2a667cc54f3133cfa8070fded8c5\n",
            "Successfully built fix-yahoo-finance\n",
            "\u001b[31mERROR: google-colab 1.0.0 has requirement requests~=2.21.0, but you'll have requests 2.19.1 which is incompatible.\u001b[0m\n",
            "\u001b[31mERROR: datascience 0.10.6 has requirement coverage==3.7.1, but you'll have coverage 4.5.3 which is incompatible.\u001b[0m\n",
            "\u001b[31mERROR: datascience 0.10.6 has requirement folium==0.2.1, but you'll have folium 0.8.3 which is incompatible.\u001b[0m\n",
            "\u001b[31mERROR: coveralls 0.5 has requirement coverage<3.999,>=3.6, but you'll have coverage 4.5.3 which is incompatible.\u001b[0m\n",
            "Installing collected packages: urllib3, idna, requests, fix-yahoo-finance\n",
            "  Found existing installation: urllib3 1.24.2\n",
            "    Uninstalling urllib3-1.24.2:\n",
            "      Successfully uninstalled urllib3-1.24.2\n",
            "  Found existing installation: idna 2.8\n",
            "    Uninstalling idna-2.8:\n",
            "      Successfully uninstalled idna-2.8\n",
            "  Found existing installation: requests 2.21.0\n",
            "    Uninstalling requests-2.21.0:\n",
            "      Successfully uninstalled requests-2.21.0\n",
            "  Found existing installation: fix-yahoo-finance 0.0.22\n",
            "    Uninstalling fix-yahoo-finance-0.0.22:\n",
            "      Successfully uninstalled fix-yahoo-finance-0.0.22\n",
            "Successfully installed fix-yahoo-finance-0.1.33 idna-2.7 requests-2.19.1 urllib3-1.23\n"
          ],
          "name": "stdout"
        },
        {
          "output_type": "display_data",
          "data": {
            "application/vnd.colab-display-data+json": {
              "pip_warning": {
                "packages": [
                  "idna",
                  "requests",
                  "urllib3"
                ]
              }
            }
          },
          "metadata": {
            "tags": []
          }
        }
      ]
    },
    {
      "cell_type": "code",
      "metadata": {
        "id": "uGX1uPGRR06s",
        "colab_type": "code",
        "colab": {
          "base_uri": "https://localhost:8080/",
          "height": 33
        },
        "outputId": "7561cac3-90e1-4ab5-98a2-dc49386b8baf"
      },
      "source": [
        "import os \n",
        "from google.colab import auth\n",
        "import pandas as pd\n",
        "from pandas import DataFrame\n",
        "from pandas import concat\n",
        "from sklearn.preprocessing import StandardScaler\n",
        "from pandas import read_csv\n",
        "from keras.models import Sequential\n",
        "\n",
        "from glob import glob\n",
        "\n",
        "from imblearn.over_sampling import RandomOverSampler\n",
        "\n",
        "from sklearn.metrics import confusion_matrix, roc_auc_score, f1_score\n",
        "\n",
        "import matplotlib.pyplot as plt\n",
        "\n",
        "\n",
        "from collections import Counter \n",
        "\n",
        "import numpy as np\n",
        "import matplotlib.pyplot as plt\n",
        "from itertools import product\n",
        "from sklearn.metrics import confusion_matrix, recall_score, classification_report, f1_score, roc_auc_score, recall_score\n",
        "from sklearn.model_selection import train_test_split\n",
        "#from pyts.classification import *\n",
        "from pyentrp import entropy as ent \n",
        "from imblearn.ensemble import BalanceCascade\n",
        "from scipy.stats import randint as sp_randint\n",
        "from scipy.stats import uniform as sp_uniform\n",
        "import lightgbm as lgb\n",
        "from sklearn.model_selection import RandomizedSearchCV, GridSearchCV\n",
        "from sklearn.metrics import f1_score\n"
      ],
      "execution_count": 2,
      "outputs": [
        {
          "output_type": "stream",
          "text": [
            "Using TensorFlow backend.\n"
          ],
          "name": "stderr"
        }
      ]
    },
    {
      "cell_type": "code",
      "metadata": {
        "id": "41aYse16-1y4",
        "colab_type": "code",
        "outputId": "1a603e21-b4ae-4be7-b068-772ad0185716",
        "colab": {
          "base_uri": "https://localhost:8080/",
          "height": 34
        }
      },
      "source": [
        "import os \n",
        "os.listdir()"
      ],
      "execution_count": 0,
      "outputs": [
        {
          "output_type": "execute_result",
          "data": {
            "text/plain": [
              "['.config', 'adc.json', 'data_stocks.csv', 'sample_data']"
            ]
          },
          "metadata": {
            "tags": []
          },
          "execution_count": 5
        }
      ]
    },
    {
      "cell_type": "code",
      "metadata": {
        "id": "fnCVawaLz5o4",
        "colab_type": "code",
        "colab": {}
      },
      "source": [
        "def data_creator(ticker):\n",
        "  import fix_yahoo_finance as yf \n",
        "  from saxpy.znorm import znorm\n",
        "  hist = yf.download(tickers = ticker, period = 'max')\n",
        "  hist = hist[\"Close\"]\n",
        "  pc = [(hist[i + 1] - hist[i])/hist[i] for i in range(len(hist) -1)]\n",
        "  pc2 = znorm(pc)\n",
        "  pc3 = [np.floor(c) for c in pc2]\n",
        "  X = ent.util_pattern_space(pc2, lag = 1, dim = 21)\n",
        "  X.shape\n",
        "  trainY = X[:,-1]\n",
        "  trainX = X[:,:-1]\n",
        "  trainY = np.where(trainY <= -4, True, False)\n",
        "  drops = np.where(trainY == True)\n",
        "  return trainX, trainY, drops"
      ],
      "execution_count": 0,
      "outputs": []
    },
    {
      "cell_type": "code",
      "metadata": {
        "id": "M_ErE6PAra55",
        "colab_type": "code",
        "outputId": "4e4c2cb6-4a20-4864-aae7-d86698bc88dc",
        "colab": {
          "base_uri": "https://localhost:8080/",
          "height": 602
        }
      },
      "source": [
        "tick_list = [\"VTI\",\"VOO\",\"VEA\",\"VWO\",\"VTV\",\"VUG\",\n",
        "             \"VO\",\"VB\",\"VEU\",\"VIG\",\"VHT\",\"VFH\",\"VPL\",\n",
        "             \"VPU\",\"VSS\",\"VGK\",\"VOT\",\"VSS\",\"VAS\",\"VGT\",\n",
        "             \"EFA\",\"EWA\",\"EWH\",\"EWG\",\"EWU\",\"EWQ\",\"EWL\",\"EWP\",\n",
        "             \"EWD\",\"EWN\",\"EWI\",\"ERUS\",\"UAE\",\"EIS\",\"INDA\"]\n",
        "             \n",
        "x_stack = []\n",
        "y_stack = []\n",
        "for tick in tick_list:\n",
        "  x, y, bob = data_creator(tick)\n",
        "  x_stack.append(x)\n",
        "  y_stack.append(y)\n",
        "\n",
        "X = np.vstack(x_stack)\n",
        "Y = np.hstack(y_stack)\n",
        "print(X.shape, Y.shape)"
      ],
      "execution_count": 316,
      "outputs": [
        {
          "output_type": "stream",
          "text": [
            "[*********************100%***********************]  1 of 1 downloaded\n",
            "[*********************100%***********************]  1 of 1 downloaded\n",
            "[*********************100%***********************]  1 of 1 downloaded\n",
            "[*********************100%***********************]  1 of 1 downloaded\n",
            "[*********************100%***********************]  1 of 1 downloaded\n",
            "[*********************100%***********************]  1 of 1 downloaded\n",
            "[*********************100%***********************]  1 of 1 downloaded\n",
            "[*********************100%***********************]  1 of 1 downloaded\n",
            "[*********************100%***********************]  1 of 1 downloaded\n",
            "[*********************100%***********************]  1 of 1 downloaded\n",
            "[*********************100%***********************]  1 of 1 downloaded\n",
            "[*********************100%***********************]  1 of 1 downloaded\n",
            "[*********************100%***********************]  1 of 1 downloaded\n",
            "[*********************100%***********************]  1 of 1 downloaded\n",
            "[*********************100%***********************]  1 of 1 downloaded\n",
            "[*********************100%***********************]  1 of 1 downloaded\n",
            "[*********************100%***********************]  1 of 1 downloaded\n",
            "[*********************100%***********************]  1 of 1 downloaded\n",
            "[*********************100%***********************]  1 of 1 downloaded\n",
            "[*********************100%***********************]  1 of 1 downloaded\n",
            "[*********************100%***********************]  1 of 1 downloaded\n",
            "[*********************100%***********************]  1 of 1 downloaded\n",
            "[*********************100%***********************]  1 of 1 downloaded\n",
            "[*********************100%***********************]  1 of 1 downloaded\n",
            "[*********************100%***********************]  1 of 1 downloaded\n",
            "[*********************100%***********************]  1 of 1 downloaded\n",
            "[*********************100%***********************]  1 of 1 downloaded\n",
            "[*********************100%***********************]  1 of 1 downloaded\n",
            "[*********************100%***********************]  1 of 1 downloaded\n",
            "[*********************100%***********************]  1 of 1 downloaded\n",
            "[*********************100%***********************]  1 of 1 downloaded\n",
            "[*********************100%***********************]  1 of 1 downloaded\n",
            "[*********************100%***********************]  1 of 1 downloaded\n",
            "[*********************100%***********************]  1 of 1 downloaded\n",
            "[*********************100%***********************]  1 of 1 downloaded\n",
            "(136030, 20) (136030,)\n"
          ],
          "name": "stdout"
        }
      ]
    },
    {
      "cell_type": "code",
      "metadata": {
        "id": "A4OTu1Qy4gha",
        "colab_type": "code",
        "colab": {
          "base_uri": "https://localhost:8080/",
          "height": 50
        },
        "outputId": "e7221824-5d71-4189-ccfb-fa228b27ec32"
      },
      "source": [
        "import fix_yahoo_finance as yf \n",
        "hist = yf.download(tickers = ticker, period = 'max')\n",
        "hist = hist[\"Close\"]\n",
        "pc = [(hist[i + 1] - hist[i])/hist[i] for i in range(len(hist) -1)]\n",
        "print(np.mean(pc), np.std(pc), np.mean(pc) - 4*np.std(pc))"
      ],
      "execution_count": 317,
      "outputs": [
        {
          "output_type": "stream",
          "text": [
            "\r[*********************100%***********************]  1 of 1 downloaded\n",
            "0.00022008157773891572 0.01359577568898762 -0.05416302117821156\n"
          ],
          "name": "stdout"
        }
      ]
    },
    {
      "cell_type": "markdown",
      "metadata": {
        "id": "91IJnTzVpYA_",
        "colab_type": "text"
      },
      "source": [
        "# Raw, Unbalanced Data \n"
      ]
    },
    {
      "cell_type": "code",
      "metadata": {
        "id": "3VdByxSz7AU1",
        "colab_type": "code",
        "colab": {}
      },
      "source": [
        "trainX, testX, trainY, testY = train_test_split(X,Y, shuffle = True)"
      ],
      "execution_count": 0,
      "outputs": []
    },
    {
      "cell_type": "code",
      "metadata": {
        "id": "STlGb2qo7v2F",
        "colab_type": "code",
        "outputId": "a259cd8c-8229-4f50-8eb6-1ac29505fe39",
        "colab": {
          "base_uri": "https://localhost:8080/",
          "height": 50
        }
      },
      "source": [
        "print(trainX.shape, testX.shape)\n",
        "import collections\n",
        "print(collections.Counter(trainY), collections.Counter(testY))"
      ],
      "execution_count": 274,
      "outputs": [
        {
          "output_type": "stream",
          "text": [
            "(95731, 20) (31911, 20)\n",
            "Counter({False: 95388, True: 343}) Counter({False: 31796, True: 115})\n"
          ],
          "name": "stdout"
        }
      ]
    },
    {
      "cell_type": "markdown",
      "metadata": {
        "id": "vqrJUDSgU6Pg",
        "colab_type": "text"
      },
      "source": [
        "# using SMOTE to create balanced data set"
      ]
    },
    {
      "cell_type": "code",
      "metadata": {
        "id": "nMmst2tU3wR1",
        "colab_type": "code",
        "colab": {
          "base_uri": "https://localhost:8080/",
          "height": 50
        },
        "outputId": "3bb90b9f-9f47-4319-bbf5-bda610831340"
      },
      "source": [
        "from imblearn.over_sampling import SMOTE\n",
        "mask = np.all(np.isnan(X), axis=1) \n",
        "X = X[~mask]\n",
        "Y = Y[~mask]\n",
        "sm = SMOTE(random_state=42)\n",
        "X_res, Y_res = sm.fit_resample(X, Y)\n",
        "print(X_res.shape, Y_res.shape)\n",
        "trainX, testX, trainY, testY = train_test_split(X_res,Y_res, shuffle = True)\n",
        "print(collections.Counter(trainY), collections.Counter(testY))"
      ],
      "execution_count": 318,
      "outputs": [
        {
          "output_type": "stream",
          "text": [
            "(271086, 20) (271086,)\n",
            "Counter({True: 101764, False: 101550}) Counter({False: 33993, True: 33779})\n"
          ],
          "name": "stdout"
        }
      ]
    },
    {
      "cell_type": "markdown",
      "metadata": {
        "id": "IOOmTfpsoULZ",
        "colab_type": "text"
      },
      "source": [
        "# HP tuning"
      ]
    },
    {
      "cell_type": "code",
      "metadata": {
        "id": "NjPmFVWbz-kH",
        "colab_type": "code",
        "outputId": "819cc766-2687-48e2-fe58-2eac828c9fde",
        "colab": {
          "base_uri": "https://localhost:8080/",
          "height": 2475
        }
      },
      "source": [
        "param_test ={\n",
        "             'num_leaves': sp_randint(30, 200), \n",
        "             'learning_rate': [1e-1, 1e-2, 1e-3, 1e-4],\n",
        "             'min_child_samples': sp_randint(100, 500), \n",
        "             'min_child_weight': [1e-5, 1e-3, 1e-2, 1e-1, 1, 1e1, 1e2, 1e3, 1e4],\n",
        "             'subsample': sp_uniform(loc=0.2, scale=0.8), \n",
        "             'colsample_bytree': sp_uniform(loc=0.5, scale=0.5),\n",
        "             'reg_alpha': [0, 1e-1, 1, 2, 5, 7, 10, 50, 100],\n",
        "             'reg_lambda': [0, 1e-1, 1, 5, 10, 20, 50, 100],\n",
        "             'bagging_fraction': sp_uniform(loc=0.5,scale=0.5),\n",
        "             'feature_fraction':sp_uniform(loc=0.5, scale = 0.5)}\n",
        "\n",
        "\n",
        "\n",
        "fit_params={\"early_stopping_rounds\": 30, \n",
        "            \n",
        "            \"eval_metric\" : ['binary_error'], \n",
        "            \"eval_set\" : [(testX, testY)],\n",
        "            'eval_names': ['valid'],\n",
        "            #'callbacks': [lgb.reset_parameter(learning_rate=learning_rate_010_decay_power_099)],\n",
        "            'verbose': 100,\n",
        "            'categorical_feature': 'auto'}\n",
        "\n",
        "n_HP_points_to_test = 5\n",
        "\n",
        "\n",
        "\n",
        "#n_estimators is set to a \"large value\". The actual number of trees build will depend on early stopping and 5000 define only the absolute maximum\n",
        "clf = lgb.LGBMClassifier(max_depth=-1, random_state = 333, silent=False, \n",
        "                         metric = None, n_jobs=4, class_weight='balanced',\n",
        "                         # np.random.randint(50), 0: 1},\n",
        "                         n_estimators = 4000, objective = 'binary', is_unbalanced = True)\n",
        "gs = RandomizedSearchCV(\n",
        "     estimator = clf, param_distributions=param_test, \n",
        "     n_iter = n_HP_points_to_test,\n",
        "     scoring = ['balanced_accuracy','f1_weighted'],\n",
        "     cv = 3,\n",
        "     refit = 'balanced_accuracy',\n",
        "     random_state = 320,\n",
        "     verbose = True)\n",
        "\n",
        "\n",
        "\n",
        "gs.fit(trainX, trainY, **fit_params)\n",
        "\n",
        "print('Best score reached: {} with params: {} '.format(gs.best_score_, gs.best_params_))"
      ],
      "execution_count": 319,
      "outputs": [
        {
          "output_type": "stream",
          "text": [
            "Fitting 3 folds for each of 5 candidates, totalling 15 fits\n"
          ],
          "name": "stdout"
        },
        {
          "output_type": "stream",
          "text": [
            "[Parallel(n_jobs=1)]: Using backend SequentialBackend with 1 concurrent workers.\n"
          ],
          "name": "stderr"
        },
        {
          "output_type": "stream",
          "text": [
            "Training until validation scores don't improve for 30 rounds.\n",
            "[100]\tvalid's binary_error: 0.0772443\n",
            "Early stopping, best iteration is:\n",
            "[75]\tvalid's binary_error: 0.0748982\n",
            "Training until validation scores don't improve for 30 rounds.\n",
            "Early stopping, best iteration is:\n",
            "[4]\tvalid's binary_error: 0.0814201\n",
            "Training until validation scores don't improve for 30 rounds.\n",
            "Early stopping, best iteration is:\n",
            "[9]\tvalid's binary_error: 0.0760344\n",
            "Training until validation scores don't improve for 30 rounds.\n",
            "[100]\tvalid's binary_error: 0.0397952\n",
            "[200]\tvalid's binary_error: 0.0295697\n",
            "[300]\tvalid's binary_error: 0.0210706\n",
            "[400]\tvalid's binary_error: 0.0147554\n",
            "[500]\tvalid's binary_error: 0.010196\n",
            "[600]\tvalid's binary_error: 0.00693502\n",
            "[700]\tvalid's binary_error: 0.00503158\n",
            "[800]\tvalid's binary_error: 0.00414626\n",
            "[900]\tvalid's binary_error: 0.00360031\n",
            "[1000]\tvalid's binary_error: 0.00314289\n",
            "[1100]\tvalid's binary_error: 0.00272974\n",
            "[1200]\tvalid's binary_error: 0.00249366\n",
            "Early stopping, best iteration is:\n",
            "[1223]\tvalid's binary_error: 0.00241988\n",
            "Training until validation scores don't improve for 30 rounds.\n",
            "[100]\tvalid's binary_error: 0.0400018\n",
            "[200]\tvalid's binary_error: 0.0292894\n",
            "[300]\tvalid's binary_error: 0.0211739\n",
            "[400]\tvalid's binary_error: 0.0144012\n",
            "[500]\tvalid's binary_error: 0.00962049\n",
            "[600]\tvalid's binary_error: 0.00675795\n",
            "[700]\tvalid's binary_error: 0.00504633\n",
            "[800]\tvalid's binary_error: 0.00420528\n",
            "[900]\tvalid's binary_error: 0.00365933\n",
            "[1000]\tvalid's binary_error: 0.00333471\n",
            "[1100]\tvalid's binary_error: 0.00295107\n",
            "[1200]\tvalid's binary_error: 0.0026117\n",
            "[1300]\tvalid's binary_error: 0.00240512\n",
            "[1400]\tvalid's binary_error: 0.00225757\n",
            "Early stopping, best iteration is:\n",
            "[1371]\tvalid's binary_error: 0.00225757\n",
            "Training until validation scores don't improve for 30 rounds.\n",
            "[100]\tvalid's binary_error: 0.0394116\n",
            "[200]\tvalid's binary_error: 0.0297616\n",
            "[300]\tvalid's binary_error: 0.021469\n",
            "[400]\tvalid's binary_error: 0.0151685\n",
            "[500]\tvalid's binary_error: 0.0104763\n",
            "[600]\tvalid's binary_error: 0.00724488\n",
            "[700]\tvalid's binary_error: 0.00538571\n",
            "[800]\tvalid's binary_error: 0.0041315\n",
            "[900]\tvalid's binary_error: 0.0035708\n",
            "[1000]\tvalid's binary_error: 0.00301009\n",
            "[1100]\tvalid's binary_error: 0.0026117\n",
            "[1200]\tvalid's binary_error: 0.00241988\n",
            "[1300]\tvalid's binary_error: 0.00231659\n",
            "[1400]\tvalid's binary_error: 0.00218379\n",
            "[1500]\tvalid's binary_error: 0.00209526\n",
            "Early stopping, best iteration is:\n",
            "[1522]\tvalid's binary_error: 0.00206575\n",
            "Training until validation scores don't improve for 30 rounds.\n",
            "[100]\tvalid's binary_error: 0.0670631\n",
            "[200]\tvalid's binary_error: 0.0531193\n",
            "[300]\tvalid's binary_error: 0.0429676\n",
            "[400]\tvalid's binary_error: 0.0358555\n",
            "[500]\tvalid's binary_error: 0.0306174\n",
            "[600]\tvalid's binary_error: 0.0264268\n",
            "[700]\tvalid's binary_error: 0.0230774\n",
            "[800]\tvalid's binary_error: 0.0209231\n",
            "[900]\tvalid's binary_error: 0.0184737\n",
            "[1000]\tvalid's binary_error: 0.0170867\n",
            "[1100]\tvalid's binary_error: 0.0159653\n",
            "[1200]\tvalid's binary_error: 0.0148882\n",
            "Early stopping, best iteration is:\n",
            "[1215]\tvalid's binary_error: 0.0147996\n",
            "Training until validation scores don't improve for 30 rounds.\n",
            "[100]\tvalid's binary_error: 0.0672402\n",
            "[200]\tvalid's binary_error: 0.0544325\n",
            "[300]\tvalid's binary_error: 0.0435873\n",
            "[400]\tvalid's binary_error: 0.035708\n",
            "[500]\tvalid's binary_error: 0.0304698\n",
            "[600]\tvalid's binary_error: 0.0263826\n",
            "[700]\tvalid's binary_error: 0.02352\n",
            "[800]\tvalid's binary_error: 0.020687\n",
            "[900]\tvalid's binary_error: 0.0186508\n",
            "[1000]\tvalid's binary_error: 0.017131\n",
            "[1100]\tvalid's binary_error: 0.0161424\n",
            "[1200]\tvalid's binary_error: 0.0155669\n",
            "Early stopping, best iteration is:\n",
            "[1209]\tvalid's binary_error: 0.0155374\n",
            "Training until validation scores don't improve for 30 rounds.\n",
            "[100]\tvalid's binary_error: 0.0668713\n",
            "[200]\tvalid's binary_error: 0.0548604\n",
            "[300]\tvalid's binary_error: 0.0433955\n",
            "[400]\tvalid's binary_error: 0.0360031\n",
            "[500]\tvalid's binary_error: 0.0307354\n",
            "[600]\tvalid's binary_error: 0.026899\n",
            "[700]\tvalid's binary_error: 0.0235348\n",
            "[800]\tvalid's binary_error: 0.0209969\n",
            "[900]\tvalid's binary_error: 0.0188278\n",
            "[1000]\tvalid's binary_error: 0.0175884\n",
            "[1100]\tvalid's binary_error: 0.0165112\n",
            "[1200]\tvalid's binary_error: 0.0157882\n",
            "Early stopping, best iteration is:\n",
            "[1222]\tvalid's binary_error: 0.0156849\n",
            "Training until validation scores don't improve for 30 rounds.\n",
            "[100]\tvalid's binary_error: 0.168152\n",
            "[200]\tvalid's binary_error: 0.155153\n",
            "[300]\tvalid's binary_error: 0.15018\n",
            "[400]\tvalid's binary_error: 0.146875\n",
            "Early stopping, best iteration is:\n",
            "[455]\tvalid's binary_error: 0.14593\n",
            "Training until validation scores don't improve for 30 rounds.\n",
            "[100]\tvalid's binary_error: 0.167798\n",
            "[200]\tvalid's binary_error: 0.154769\n",
            "[300]\tvalid's binary_error: 0.148483\n",
            "[400]\tvalid's binary_error: 0.146491\n",
            "Early stopping, best iteration is:\n",
            "[432]\tvalid's binary_error: 0.145488\n",
            "Training until validation scores don't improve for 30 rounds.\n",
            "Early stopping, best iteration is:\n",
            "[37]\tvalid's binary_error: 0.188367\n",
            "Training until validation scores don't improve for 30 rounds.\n",
            "Early stopping, best iteration is:\n",
            "[4]\tvalid's binary_error: 0.0733046\n",
            "Training until validation scores don't improve for 30 rounds.\n",
            "Early stopping, best iteration is:\n",
            "[14]\tvalid's binary_error: 0.068937\n",
            "Training until validation scores don't improve for 30 rounds.\n",
            "Early stopping, best iteration is:\n",
            "[4]\tvalid's binary_error: 0.0748392\n"
          ],
          "name": "stdout"
        },
        {
          "output_type": "stream",
          "text": [
            "[Parallel(n_jobs=1)]: Done  15 out of  15 | elapsed:  9.2min finished\n"
          ],
          "name": "stderr"
        },
        {
          "output_type": "stream",
          "text": [
            "Training until validation scores don't improve for 30 rounds.\n",
            "[100]\tvalid's binary_error: 0.0369179\n",
            "[200]\tvalid's binary_error: 0.0265449\n",
            "[300]\tvalid's binary_error: 0.018695\n",
            "[400]\tvalid's binary_error: 0.0127634\n",
            "[500]\tvalid's binary_error: 0.00817447\n",
            "[600]\tvalid's binary_error: 0.00569557\n",
            "[700]\tvalid's binary_error: 0.0042643\n",
            "[800]\tvalid's binary_error: 0.003438\n",
            "[900]\tvalid's binary_error: 0.00289205\n",
            "[1000]\tvalid's binary_error: 0.0024789\n",
            "[1100]\tvalid's binary_error: 0.0022133\n",
            "[1200]\tvalid's binary_error: 0.00205099\n",
            "Early stopping, best iteration is:\n",
            "[1171]\tvalid's binary_error: 0.00205099\n",
            "Best score reached: 0.9977652808312624 with params: {'bagging_fraction': 0.8038446632925362, 'colsample_bytree': 0.5257451638948233, 'feature_fraction': 0.5665902906167368, 'learning_rate': 0.01, 'min_child_samples': 376, 'min_child_weight': 0.001, 'num_leaves': 74, 'reg_alpha': 7, 'reg_lambda': 0, 'subsample': 0.8420944718653172} \n"
          ],
          "name": "stdout"
        }
      ]
    },
    {
      "cell_type": "code",
      "metadata": {
        "id": "qE9zpYV30jo6",
        "colab_type": "code",
        "outputId": "699677f9-3a27-4e57-eca5-551d2928be17",
        "colab": {
          "base_uri": "https://localhost:8080/",
          "height": 212
        }
      },
      "source": [
        "bst = gs.best_estimator_\n",
        "#print(bst.get_params)\n",
        "from sklearn.metrics import f1_score\n",
        "from sklearn.metrics import confusion_matrix \n",
        "\n",
        "print(roc_auc_score(testY, bst.predict(testX), average = 'weighted'))\n",
        "print(classification_report(testY, bst.predict(testX), target_names = [\"Zero\", \"One\"]))\n",
        "cm = confusion_matrix(testY, np.round(bst.predict(testX)), labels=[0,1])\n",
        "print(cm)\n",
        "\n"
      ],
      "execution_count": 320,
      "outputs": [
        {
          "output_type": "stream",
          "text": [
            "0.9979546227506589\n",
            "              precision    recall  f1-score   support\n",
            "\n",
            "        Zero       1.00      1.00      1.00     33993\n",
            "         One       1.00      1.00      1.00     33779\n",
            "\n",
            "   micro avg       1.00      1.00      1.00     67772\n",
            "   macro avg       1.00      1.00      1.00     67772\n",
            "weighted avg       1.00      1.00      1.00     67772\n",
            "\n",
            "[[33863   130]\n",
            " [    9 33770]]\n"
          ],
          "name": "stdout"
        }
      ]
    },
    {
      "cell_type": "code",
      "metadata": {
        "id": "c32euMovr_bJ",
        "colab_type": "code",
        "colab": {}
      },
      "source": [
        "bst.get_params"
      ],
      "execution_count": 0,
      "outputs": []
    },
    {
      "cell_type": "markdown",
      "metadata": {
        "id": "59varpusvxbd",
        "colab_type": "text"
      },
      "source": [
        "# Calibrating the Classifier "
      ]
    },
    {
      "cell_type": "code",
      "metadata": {
        "id": "lhaDoZOWHAY6",
        "colab_type": "code",
        "outputId": "b95ac5d2-4b87-4124-cd4a-d0b9a1854556",
        "colab": {
          "base_uri": "https://localhost:8080/",
          "height": 212
        }
      },
      "source": [
        "from sklearn.calibration import CalibratedClassifierCV\n",
        "calib = CalibratedClassifierCV(base_estimator = bst, cv = 3)\n",
        "calib.fit(trainX,trainY)\n",
        "\n",
        "print(roc_auc_score(testY, calib.predict(testX), average = 'weighted'))\n",
        "print(classification_report(testY, calib.predict(testX), target_names = [\"Zero\", \"One\"]))\n",
        "cm = confusion_matrix(testY, np.round(calib.predict(testX)), labels=[0,1])\n",
        "print(cm)\n",
        "\n"
      ],
      "execution_count": 321,
      "outputs": [
        {
          "output_type": "stream",
          "text": [
            "0.9986606504622466\n",
            "              precision    recall  f1-score   support\n",
            "\n",
            "        Zero       1.00      1.00      1.00     33993\n",
            "         One       1.00      1.00      1.00     33779\n",
            "\n",
            "   micro avg       1.00      1.00      1.00     67772\n",
            "   macro avg       1.00      1.00      1.00     67772\n",
            "weighted avg       1.00      1.00      1.00     67772\n",
            "\n",
            "[[33911    82]\n",
            " [    9 33770]]\n"
          ],
          "name": "stdout"
        }
      ]
    },
    {
      "cell_type": "markdown",
      "metadata": {
        "id": "kWaKGrCi8N8f",
        "colab_type": "text"
      },
      "source": [
        "# Testing on unseen data "
      ]
    },
    {
      "cell_type": "code",
      "metadata": {
        "id": "3dMejovky5Mm",
        "colab_type": "code",
        "colab": {
          "base_uri": "https://localhost:8080/",
          "height": 33
        },
        "outputId": "4f10f261-d274-4715-ed50-a8795ee3c70a"
      },
      "source": [
        "collections.Counter(trainY)"
      ],
      "execution_count": 291,
      "outputs": [
        {
          "output_type": "execute_result",
          "data": {
            "text/plain": [
              "Counter({False: 95388, True: 343})"
            ]
          },
          "metadata": {
            "tags": []
          },
          "execution_count": 291
        }
      ]
    },
    {
      "cell_type": "markdown",
      "metadata": {
        "id": "ktLzdsYnrbjC",
        "colab_type": "text"
      },
      "source": [
        "models\n"
      ]
    },
    {
      "cell_type": "code",
      "metadata": {
        "id": "sc37ql9HxEcD",
        "colab_type": "code",
        "outputId": "0c8aab01-ae1c-4cf5-e5ca-e816fc6e974d",
        "colab": {
          "base_uri": "https://localhost:8080/",
          "height": 440
        }
      },
      "source": [
        "from imblearn.metrics import classification_report_imbalanced as cimb\n",
        "\n",
        "\n",
        "def reporter(clf, ticker, recall):\n",
        "  x, y, b = data_creator(ticker)\n",
        "  preds = clf.predict_proba(x[b])\n",
        "  t = np.quantile(preds[:,-1], (1-recall))\n",
        "  pclass= []\n",
        "  all_preds = clf.predict_proba(x)\n",
        "  for i in range(len(x)):\n",
        "    if all_preds[i,-1] >= t:\n",
        "      pclass.append(True)\n",
        "    else:\n",
        "      pclass.append(False)\n",
        "  print(roc_auc_score(y,pclass))\n",
        "  print(classification_report(y,pclass))\n",
        "  print(confusion_matrix(y, pclass))\n",
        "      \n",
        "tick = \"VT\"\n",
        "recall = 0.5\n",
        "reporter(clf = calib, ticker = tick, recall = recall)\n",
        "reporter(clf = bst, ticker = tick, recall = recall)"
      ],
      "execution_count": 340,
      "outputs": [
        {
          "output_type": "stream",
          "text": [
            "\r[*********************100%***********************]  1 of 1 downloaded\n",
            "0.7692307692307692\n",
            "              precision    recall  f1-score   support\n",
            "\n",
            "       False       1.00      1.00      1.00      2699\n",
            "        True       1.00      0.54      0.70        13\n",
            "\n",
            "   micro avg       1.00      1.00      1.00      2712\n",
            "   macro avg       1.00      0.77      0.85      2712\n",
            "weighted avg       1.00      1.00      1.00      2712\n",
            "\n",
            "[[2699    0]\n",
            " [   6    7]]\n",
            "[*********************100%***********************]  1 of 1 downloaded\n",
            "0.7692307692307692\n",
            "              precision    recall  f1-score   support\n",
            "\n",
            "       False       1.00      1.00      1.00      2699\n",
            "        True       1.00      0.54      0.70        13\n",
            "\n",
            "   micro avg       1.00      1.00      1.00      2712\n",
            "   macro avg       1.00      0.77      0.85      2712\n",
            "weighted avg       1.00      1.00      1.00      2712\n",
            "\n",
            "[[2699    0]\n",
            " [   6    7]]\n"
          ],
          "name": "stdout"
        }
      ]
    },
    {
      "cell_type": "code",
      "metadata": {
        "id": "HZgEkUT6zPUe",
        "colab_type": "code",
        "outputId": "6199d6e1-3146-4bfb-a03e-ce2f9e1f7a6d",
        "colab": {
          "base_uri": "https://localhost:8080/",
          "height": 555
        }
      },
      "source": [
        "from sklearn.metrics import roc_curve\n",
        "def roc_plotter(clf, ticker):\n",
        "  x, y, b = data_creator(ticker)\n",
        "  fpr, tpr, thresholds = roc_curve(y, clf.predict(x))\n",
        "# plot no skill\n",
        "  plt.plot([0, 1], [0, 1], linestyle='--')\n",
        "# plot the roc curve for the model\n",
        "  plt.plot(fpr, tpr, marker='.')\n",
        "# show the plot\n",
        "  plt.show()\n",
        "  \n",
        "roc_plotter(bst, \"IOO\")\n",
        "roc_plotter(calib, \"IOO\")"
      ],
      "execution_count": 323,
      "outputs": [
        {
          "output_type": "stream",
          "text": [
            "\r[*********************100%***********************]  1 of 1 downloaded\n"
          ],
          "name": "stdout"
        },
        {
          "output_type": "display_data",
          "data": {
            "image/png": "[encoded data removed]",
            "text/plain": [
              "<Figure size 432x288 with 1 Axes>"
            ]
          },
          "metadata": {
            "tags": []
          }
        },
        {
          "output_type": "stream",
          "text": [
            "\r[*********************100%***********************]  1 of 1 downloaded\n"
          ],
          "name": "stdout"
        },
        {
          "output_type": "display_data",
          "data": {
            "image/png": "[encoded data removed]",
            "text/plain": [
              "<Figure size 432x288 with 1 Axes>"
            ]
          },
          "metadata": {
            "tags": []
          }
        }
      ]
    },
    {
      "cell_type": "code",
      "metadata": {
        "id": "p82B11MszVJ-",
        "colab_type": "code",
        "outputId": "6d6e5457-2c26-455d-d973-dc97b9a3365b",
        "colab": {
          "base_uri": "https://localhost:8080/",
          "height": 590
        }
      },
      "source": [
        "!pip install tslearn\n",
        "n = 10\n",
        "from tslearn.clustering import TimeSeriesKMeans\n",
        "km = TimeSeriesKMeans(n_clusters = n,verbose=True)\n",
        "y_pred = km.fit_predict(bads)\n",
        "\n",
        "#collections.Counter(y_pred)\n",
        "\n",
        "fig = plt.figure(figsize=(8,8))\n",
        "for yi in range(n):\n",
        "    ax = plt.subplot(n, 1, yi + 1)\n",
        "    for xx in bads[y_pred == yi]:\n",
        "        plt.plot(xx.ravel(), \"k-\", alpha=.10)\n",
        "    plt.plot(km.cluster_centers_[yi].ravel(), \"r-\")\n",
        "    plt.xlim(0, 9)\n",
        "    plt.ylim(-10, 10)\n",
        "    if yi == 1:\n",
        "        plt.title(\"Euclidean $k$-means\")\n",
        "fig.savefig('dowjones_clusters.png')"
      ],
      "execution_count": 0,
      "outputs": [
        {
          "output_type": "stream",
          "text": [
            "Requirement already satisfied: tslearn in /usr/local/lib/python3.6/dist-packages (0.1.29)\n",
            "Requirement already satisfied: scikit-learn in /usr/local/lib/python3.6/dist-packages (from tslearn) (0.20.3)\n",
            "Requirement already satisfied: Cython in /usr/local/lib/python3.6/dist-packages (from tslearn) (0.29.7)\n",
            "Requirement already satisfied: scipy in /usr/local/lib/python3.6/dist-packages (from tslearn) (1.2.1)\n",
            "Requirement already satisfied: numpy in /usr/local/lib/python3.6/dist-packages (from tslearn) (1.16.3)\n",
            "80.878 --> 69.946 --> 69.340 --> 69.136 --> 69.015 --> 68.942 --> 68.942 --> \n"
          ],
          "name": "stdout"
        },
        {
          "output_type": "display_data",
          "data": {
            "image/png": "[encoded data removed]",
            "text/plain": [
              "<Figure size 576x576 with 10 Axes>"
            ]
          },
          "metadata": {
            "tags": []
          }
        }
      ]
    }
  ]
}